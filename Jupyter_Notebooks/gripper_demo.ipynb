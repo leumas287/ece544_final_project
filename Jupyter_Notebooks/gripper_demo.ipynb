{
 "cells": [
  {
   "cell_type": "code",
   "execution_count": 1,
   "metadata": {
    "collapsed": true,
    "deletable": true,
    "editable": true
   },
   "outputs": [],
   "source": [
    "# Gripper notebook: setup the controls and demonatrate the gripper arm\n",
    "import time\n",
    "\n",
    "# import the Overlay moduel and download the base overlay\n",
    "# this programs the Zynq board with the base image\n",
    "from pynq import Overlay\n",
    "Overlay(\"base.bit\").download()"
   ]
  },
  {
   "cell_type": "code",
   "execution_count": 2,
   "metadata": {
    "collapsed": true,
    "deletable": true,
    "editable": true
   },
   "outputs": [],
   "source": [
    "# import the PMOD PWM module and PMODA port from the pynq.iop package\n",
    "# This is used to configure a pin on a port to PWM output\n",
    "from pynq.iop import Pmod_PWM\n",
    "from pynq.iop import PMODB\n",
    "\n",
    "gripper_pwm = Pmod_PWM(PMODB, 0)\n",
    "gripper_pwm.stop()"
   ]
  },
  {
   "cell_type": "code",
   "execution_count": 3,
   "metadata": {
    "collapsed": true,
    "deletable": true,
    "editable": true
   },
   "outputs": [],
   "source": [
    "# Function to close the gripper, \"gripping\" an object\n",
    "def grip(pwm):\n",
    "    # Set the period to 25ms for the servo\n",
    "    period = 25000\n",
    "    \n",
    "    # Set the duty cycle to 1% = 25ms * 0.01 = 500us\n",
    "    # This corresponds to 0 degree's on the servo\n",
    "    # or a closed gripper arm position\n",
    "    duty = 1\n",
    "    \n",
    "    # output the signal to the servo gripper arm to \"grip\"\n",
    "    pwm.generate(period, duty)\n",
    "    "
   ]
  },
  {
   "cell_type": "code",
   "execution_count": 19,
   "metadata": {
    "collapsed": true,
    "deletable": true,
    "editable": true
   },
   "outputs": [],
   "source": [
    "def release(pwm):\n",
    "    # Set the period to 25ms for the servo\n",
    "    period = 25000\n",
    "    \n",
    "    # Set the duty cycle to 3% = 25ms * 0.03 = 750us pulse\n",
    "    # This corresponds to 0 degree's on the servo\n",
    "    # or an open gripper arm position\n",
    "    duty = 3\n",
    "    \n",
    "    # output the signal to the servo gripper arm to \"release\"\n",
    "    pwm.generate(period, duty)\n",
    "    \n",
    "    pwm.stop()"
   ]
  },
  {
   "cell_type": "code",
   "execution_count": 25,
   "metadata": {
    "collapsed": true,
    "deletable": true,
    "editable": true
   },
   "outputs": [],
   "source": [
    "grip(gripper_pwm)"
   ]
  },
  {
   "cell_type": "code",
   "execution_count": 26,
   "metadata": {
    "collapsed": true,
    "deletable": true,
    "editable": true
   },
   "outputs": [],
   "source": [
    "release(gripper_pwm)"
   ]
  },
  {
   "cell_type": "code",
   "execution_count": 18,
   "metadata": {
    "collapsed": true,
    "deletable": true,
    "editable": true
   },
   "outputs": [],
   "source": [
    "gripper_pwm.stop()"
   ]
  }
 ],
 "metadata": {
  "kernelspec": {
   "display_name": "Python 3",
   "language": "python",
   "name": "python3"
  },
  "language_info": {
   "codemirror_mode": {
    "name": "ipython",
    "version": 3
   },
   "file_extension": ".py",
   "mimetype": "text/x-python",
   "name": "python",
   "nbconvert_exporter": "python",
   "pygments_lexer": "ipython3",
   "version": "3.6.0"
  }
 },
 "nbformat": 4,
 "nbformat_minor": 2
}
