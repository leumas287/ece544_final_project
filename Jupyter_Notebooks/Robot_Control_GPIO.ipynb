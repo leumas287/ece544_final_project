{
 "cells": [
  {
   "cell_type": "code",
   "execution_count": 1,
   "metadata": {
    "collapsed": true,
    "deletable": true,
    "editable": true
   },
   "outputs": [],
   "source": [
    "# Testing HB3 IOP\n",
    "import time\n",
    "from pynq import Overlay\n",
    "Overlay(\"base.bit\").download()"
   ]
  },
  {
   "cell_type": "code",
   "execution_count": 2,
   "metadata": {
    "collapsed": false,
    "deletable": true,
    "editable": true
   },
   "outputs": [],
   "source": [
    "from pynq.iop import Pmod_PWM\n",
    "from pynq.iop import Pmod_IO\n",
    "from pynq.iop import PMODA\n",
    "from pynq.iop import PMODB\n",
    "\n",
    "right_enable = Pmod_IO(PMODA, 0, 'out')\n",
    "right_direction = Pmod_IO(PMODA, 1, 'out')\n",
    "left_enable = Pmod_IO(PMODA, 4, 'out')\n",
    "left_direction = Pmod_IO(PMODA, 5, 'out')\n",
    "\n",
    "gripper_pwm = Pmod_PWM(PMODB, 0)\n",
    "gripper_pwm.stop()"
   ]
  },
  {
   "cell_type": "code",
   "execution_count": 3,
   "metadata": {
    "collapsed": true,
    "deletable": true,
    "editable": true
   },
   "outputs": [],
   "source": [
    "def reverse(duration=0.1):\n",
    "    # Stop the motor's before changing direction\n",
    "    left_enable.write(0)\n",
    "    right_enable.write(0)\n",
    "    \n",
    "    # Change direction to \"forward\"\n",
    "    left_direction.write(0)\n",
    "    right_direction.write(1)\n",
    "    \n",
    "    # Go forward\n",
    "    left_enable.write(1)\n",
    "    right_enable.write(1)\n",
    "    \n",
    "    # Wait for one second\n",
    "    time.sleep(duration)\n",
    "    \n",
    "    # Stop the motor\n",
    "    right_enable.write(0)\n",
    "    left_enable.write(0)\n",
    "\n",
    "    \n",
    "    "
   ]
  },
  {
   "cell_type": "code",
   "execution_count": 4,
   "metadata": {
    "collapsed": true,
    "deletable": true,
    "editable": true
   },
   "outputs": [],
   "source": [
    "def forward(duration=0.1):\n",
    "    # Stop the motor's before changing direction\n",
    "    left_enable.write(0)\n",
    "    right_enable.write(0)\n",
    "    \n",
    "    # Change direction to \"forward\"\n",
    "    left_direction.write(1)\n",
    "    right_direction.write(0)\n",
    "    \n",
    "    # Go forward\n",
    "    left_enable.write(1)\n",
    "    right_enable.write(1)\n",
    "    \n",
    "    # Wait for one second\n",
    "    time.sleep(duration)\n",
    "    \n",
    "    # Stop the motor\n",
    "    right_enable.write(0)\n",
    "    left_enable.write(0)"
   ]
  },
  {
   "cell_type": "code",
   "execution_count": 5,
   "metadata": {
    "collapsed": true,
    "deletable": true,
    "editable": true
   },
   "outputs": [],
   "source": [
    "def left(duration=0.1):\n",
    "    # Stop the motor's before changing direction\n",
    "    left_enable.write(0)\n",
    "    right_enable.write(0)\n",
    "    \n",
    "    # Change direction to \"forward\"\n",
    "    left_direction.write(0)\n",
    "    right_direction.write(0)\n",
    "    \n",
    "    # Go forward\n",
    "    left_enable.write(1)\n",
    "    right_enable.write(1)\n",
    "    \n",
    "    # Wait for one second\n",
    "    time.sleep(duration)\n",
    "    \n",
    "    # Stop the motor\n",
    "    right_enable.write(0)\n",
    "    left_enable.write(0)"
   ]
  },
  {
   "cell_type": "code",
   "execution_count": 6,
   "metadata": {
    "collapsed": true,
    "deletable": true,
    "editable": true
   },
   "outputs": [],
   "source": [
    "def right(duration=0.1):\n",
    "    # Stop the motor's before changing direction\n",
    "    left_enable.write(0)\n",
    "    right_enable.write(0)\n",
    "    \n",
    "    # Change direction to \"forward\"\n",
    "    left_direction.write(1)\n",
    "    right_direction.write(1)\n",
    "    \n",
    "    # Go forward\n",
    "    left_enable.write(1)\n",
    "    right_enable.write(1)\n",
    "    \n",
    "    # Wait for one second\n",
    "    time.sleep(duration)\n",
    "    \n",
    "    # Stop the motor\n",
    "    right_enable.write(0)\n",
    "    left_enable.write(0)"
   ]
  },
  {
   "cell_type": "code",
   "execution_count": 7,
   "metadata": {
    "collapsed": true,
    "deletable": true,
    "editable": true
   },
   "outputs": [],
   "source": [
    "# Function to close the gripper, \"gripping\" an object\n",
    "def grip(pwm):\n",
    "    # Set the period to 25ms for the servo\n",
    "    period = 25000\n",
    "    \n",
    "    # Set the duty cycle to 1% = 25ms * 0.01 = 500us\n",
    "    # This corresponds to 0 degree's on the servo\n",
    "    # or a closed gripper arm position\n",
    "    duty = 1\n",
    "    \n",
    "    # output the signal to the servo gripper arm to \"grip\"\n",
    "    pwm.generate(period, duty)"
   ]
  },
  {
   "cell_type": "code",
   "execution_count": 52,
   "metadata": {
    "collapsed": true,
    "deletable": true,
    "editable": true
   },
   "outputs": [],
   "source": [
    "def release(pwm):\n",
    "    # Set the period to 25ms for the servo\n",
    "    period = 25000\n",
    "    \n",
    "    # Set the duty cycle to 3% = 25ms * 0.03 = 750us pulse\n",
    "    # This corresponds to 0 degree's on the servo\n",
    "    # or an open gripper arm position\n",
    "    duty = 80\n",
    "    \n",
    "    # output the signal to the servo gripper arm to \"release\"\n",
    "    pwm.generate(period, duty)\n",
    "    time.sleep(0.1)\n",
    "    pwm.stop()"
   ]
  },
  {
   "cell_type": "code",
   "execution_count": 97,
   "metadata": {
    "collapsed": false,
    "deletable": true,
    "editable": true
   },
   "outputs": [],
   "source": [
    "forward(2)"
   ]
  },
  {
   "cell_type": "code",
   "execution_count": 105,
   "metadata": {
    "collapsed": true,
    "deletable": true,
    "editable": true
   },
   "outputs": [],
   "source": [
    "reverse(0.1)"
   ]
  },
  {
   "cell_type": "code",
   "execution_count": 78,
   "metadata": {
    "collapsed": true,
    "deletable": true,
    "editable": true
   },
   "outputs": [],
   "source": [
    "right(0.1)"
   ]
  },
  {
   "cell_type": "code",
   "execution_count": 96,
   "metadata": {
    "collapsed": true,
    "deletable": true,
    "editable": true
   },
   "outputs": [],
   "source": [
    "left(1.5)"
   ]
  },
  {
   "cell_type": "code",
   "execution_count": 104,
   "metadata": {
    "collapsed": true,
    "deletable": true,
    "editable": true
   },
   "outputs": [],
   "source": [
    "release(gripper_pwm)"
   ]
  },
  {
   "cell_type": "code",
   "execution_count": 103,
   "metadata": {
    "collapsed": true
   },
   "outputs": [],
   "source": [
    "grip(gripper_pwm)"
   ]
  }
 ],
 "metadata": {
  "kernelspec": {
   "display_name": "Python 3",
   "language": "python",
   "name": "python3"
  },
  "language_info": {
   "codemirror_mode": {
    "name": "ipython",
    "version": 3
   },
   "file_extension": ".py",
   "mimetype": "text/x-python",
   "name": "python",
   "nbconvert_exporter": "python",
   "pygments_lexer": "ipython3",
   "version": "3.6.0"
  }
 },
 "nbformat": 4,
 "nbformat_minor": 2
}
